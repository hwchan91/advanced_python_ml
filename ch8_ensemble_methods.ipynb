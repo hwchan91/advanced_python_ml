{
 "cells": [
  {
   "cell_type": "code",
   "execution_count": 42,
   "metadata": {},
   "outputs": [],
   "source": [
    "from sklearn.model_selection import cross_val_score\n",
    "from sklearn.ensemble import BaggingClassifier\n",
    "from sklearn.neighbors import KNeighborsClassifier\n",
    "from sklearn.datasets import load_digits\n",
    "from sklearn.preprocessing import scale\n",
    "\n",
    "digits = load_digits()\n",
    "data = scale(digits.data)\n",
    "X = data\n",
    "y = digits.target\n",
    "\n",
    "from sklearn.model_selection import train_test_split\n",
    "X_train, X_test, y_train, y_test = train_test_split(X, y, test_size=0.33)"
   ]
  },
  {
   "cell_type": "code",
   "execution_count": 43,
   "metadata": {},
   "outputs": [
    {
     "name": "stderr",
     "output_type": "stream",
     "text": [
      "/anaconda3/lib/python3.6/site-packages/sklearn/model_selection/_split.py:2053: FutureWarning: You should specify a value for 'cv' instead of relying on the default value. The default value will change from 3 to 5 in version 0.22.\n",
      "  warnings.warn(CV_WARNING, FutureWarning)\n"
     ]
    },
    {
     "name": "stdout",
     "output_type": "stream",
     "text": [
      "[0.95544554 0.9675     0.95739348]\n",
      "0.9601130094212428\n"
     ]
    },
    {
     "data": {
      "text/plain": [
       "0.9747474747474747"
      ]
     },
     "execution_count": 43,
     "metadata": {},
     "output_type": "execute_result"
    }
   ],
   "source": [
    "# bagging wth KNN\n",
    "bagging = BaggingClassifier(KNeighborsClassifier(), max_samples=0.7, max_features=0.7)\n",
    "scores = cross_val_score(bagging, X_train, y_train)\n",
    "mean = scores.mean()\n",
    "print(scores)\n",
    "print(mean)\n",
    "\n",
    "bagging.fit(X_train, y_train)\n",
    "bagging.score(X_test, y_test)"
   ]
  },
  {
   "cell_type": "code",
   "execution_count": 33,
   "metadata": {},
   "outputs": [
    {
     "name": "stderr",
     "output_type": "stream",
     "text": [
      "/anaconda3/lib/python3.6/site-packages/sklearn/model_selection/_split.py:2053: FutureWarning: You should specify a value for 'cv' instead of relying on the default value. The default value will change from 3 to 5 in version 0.22.\n",
      "  warnings.warn(CV_WARNING, FutureWarning)\n"
     ]
    },
    {
     "name": "stdout",
     "output_type": "stream",
     "text": [
      "[0.98024691 0.97256858 0.97481108]\n"
     ]
    },
    {
     "data": {
      "text/plain": [
       "0.9713804713804713"
      ]
     },
     "execution_count": 33,
     "metadata": {},
     "output_type": "execute_result"
    }
   ],
   "source": [
    "# random forests\n",
    "from sklearn.ensemble import RandomForestClassifier\n",
    "   \n",
    "clf = RandomForestClassifier(n_estimators=500)\n",
    "scores = cross_val_score(clf, X_train, y_train)\n",
    "print(scores)\n",
    "\n",
    "clf = clf.fit(X_train, y_train)\n",
    "clf.score(X_test, y_test)"
   ]
  },
  {
   "cell_type": "code",
   "execution_count": 40,
   "metadata": {},
   "outputs": [
    {
     "name": "stderr",
     "output_type": "stream",
     "text": [
      "/anaconda3/lib/python3.6/site-packages/sklearn/model_selection/_split.py:2053: FutureWarning: You should specify a value for 'cv' instead of relying on the default value. The default value will change from 3 to 5 in version 0.22.\n",
      "  warnings.warn(CV_WARNING, FutureWarning)\n"
     ]
    },
    {
     "name": "stdout",
     "output_type": "stream",
     "text": [
      "[0.98271605 0.98254364 0.98236776]\n"
     ]
    },
    {
     "data": {
      "text/plain": [
       "0.9781144781144782"
      ]
     },
     "execution_count": 40,
     "metadata": {},
     "output_type": "execute_result"
    }
   ],
   "source": [
    "# extremely randomized trees (ExtraTrees) - randomizes the discrimination threshold\n",
    "from sklearn.ensemble import ExtraTreesClassifier\n",
    "\n",
    "clf = ExtraTreesClassifier(n_estimators=500, max_depth=None, min_samples_split=2, random_state=0)\n",
    "scores = cross_val_score(clf, X_train, y_train)\n",
    "print(scores)\n",
    "\n",
    "clf = clf.fit(X_train, y_train)\n",
    "clf.score(X_test, y_test)"
   ]
  },
  {
   "cell_type": "code",
   "execution_count": null,
   "metadata": {},
   "outputs": [],
   "source": [
    "# Boosting"
   ]
  },
  {
   "cell_type": "code",
   "execution_count": 185,
   "metadata": {},
   "outputs": [
    {
     "name": "stdout",
     "output_type": "stream",
     "text": [
      "[0.85074627 0.78787879 0.86153846]\n"
     ]
    },
    {
     "data": {
      "text/plain": [
       "0.8282828282828283"
      ]
     },
     "execution_count": 185,
     "metadata": {},
     "output_type": "execute_result"
    }
   ],
   "source": [
    "# Adaboost\n",
    "from sklearn.tree import DecisionTreeClassifier\n",
    "from sklearn.ensemble import AdaBoostClassifier\n",
    "import pandas as pd\n",
    "\n",
    "ds = pd.read_csv('heart_disease_weka_dataset.csv')\n",
    "X = ds.drop(['num'], axis=1).values\n",
    "y = ds['num'].values # actual labels\n",
    "X_train, X_test, y_train, y_test = train_test_split(X, y, test_size=0.33)\n",
    "\n",
    "n_estimators = 4 # when using SAMME.R, the reaches optimal much faster, and thus n_estimator used here is quite low\n",
    "learning_rate = .8\n",
    "\n",
    "dt_stump = DecisionTreeClassifier(max_depth=1, min_samples_leaf=1)\n",
    "\n",
    "ada_discrete = AdaBoostClassifier(\n",
    "    base_estimator=dt_stump,\n",
    "    learning_rate=learning_rate,\n",
    "    n_estimators=n_estimators,\n",
    "    algorithm=\"SAMME.R\",\n",
    ")\n",
    "\n",
    "scores = cross_val_score(ada_discrete, X_train, y_train, cv=3)\n",
    "print(scores)\n",
    "\n",
    "ada_discrete.fit(X_train, y_train)\n",
    "ada_discrete.score(X_test, y_test)"
   ]
  },
  {
   "cell_type": "code",
   "execution_count": 186,
   "metadata": {},
   "outputs": [],
   "source": [
    "# finding the optimal no of trees\n",
    "learning_rate = .8\n",
    "dt_stump = DecisionTreeClassifier(max_depth=1, min_samples_leaf=1)\n",
    "train_scores = []\n",
    "test_scores = []\n",
    "\n",
    "for i in range(40):\n",
    "    ada_discrete = AdaBoostClassifier(\n",
    "       base_estimator=dt_stump,\n",
    "       learning_rate=learning_rate,\n",
    "       n_estimators= i * 10 + 1,\n",
    "       algorithm=\"SAMME\"\n",
    "    )\n",
    "\n",
    "    scores = cross_val_score(ada_discrete, X_train, y_train, cv=3)\n",
    "    train_scores.append(scores.mean())\n",
    "\n",
    "    ada_discrete.fit(X_train, y_train)\n",
    "    test_scores.append(ada_discrete.score(X_test, y_test))"
   ]
  },
  {
   "cell_type": "code",
   "execution_count": 161,
   "metadata": {},
   "outputs": [
    {
     "data": {
      "text/plain": [
       "<matplotlib.legend.Legend at 0x1a1a8d50f0>"
      ]
     },
     "execution_count": 161,
     "metadata": {},
     "output_type": "execute_result"
    },
    {
     "data": {
      "image/png": "[encoded data removed]",
      "text/plain": [
       "<Figure size 432x288 with 1 Axes>"
      ]
     },
     "metadata": {
      "needs_background": "light"
     },
     "output_type": "display_data"
    }
   ],
   "source": [
    "import numpy as np\n",
    "import matplotlib.pyplot as plt\n",
    "plt.figure()\n",
    "plt.plot(np.array(range(40)) * 10, train_scores, 'bx-', label='train scores')\n",
    "plt.plot(np.array(range(40)) * 10, test_scores, 'r', label='test scores')\n",
    "plt.xlabel('accuracy')\n",
    "plt.ylabel('tree count')\n",
    "plt.legend()\n",
    "# levels off around 50-100 using SAMME with LR=0.8"
   ]
  },
  {
   "cell_type": "code",
   "execution_count": 1,
   "metadata": {},
   "outputs": [],
   "source": [
    "# XGBoost\n",
    "import numpy as np\n",
    "import pandas as pd\n",
    "from sklearn.model_selection import train_test_split\n",
    "\n",
    "df = pd.read_csv('dermatology.data', header=None)\n",
    "df.iloc[:,33] = np.where(df.iloc[:,33] == '?', 0, df.iloc[:,33]) # age column, some missing\n",
    "df.iloc[:,33] = pd.to_numeric(df.iloc[:,33])\n",
    "df.iloc[:,34] -= 1 # label column, from 1-6, change to 0-5\n",
    "row, col = df.shape\n",
    "\n",
    "data = df.values\n",
    "X = data[:, :-1]\n",
    "y = data[:,-1]\n",
    "\n",
    "X_train, X_test, y_train, y_test = train_test_split(X, y, test_size=0.33)"
   ]
  },
  {
   "cell_type": "code",
   "execution_count": 2,
   "metadata": {},
   "outputs": [
    {
     "name": "stdout",
     "output_type": "stream",
     "text": [
      "[0]\ttrain-merror:0.020408\ttest-merror:0.033058\n",
      "[1]\ttrain-merror:0.020408\ttest-merror:0.033058\n",
      "[2]\ttrain-merror:0.016327\ttest-merror:0.024793\n",
      "[3]\ttrain-merror:0.012245\ttest-merror:0.024793\n",
      "[4]\ttrain-merror:0.016327\ttest-merror:0.024793\n",
      "predict class, classification error=0.024793388429752067\n",
      "[0]\ttrain-merror:0.020408\ttest-merror:0.033058\n",
      "[1]\ttrain-merror:0.020408\ttest-merror:0.033058\n",
      "[2]\ttrain-merror:0.016327\ttest-merror:0.024793\n",
      "[3]\ttrain-merror:0.012245\ttest-merror:0.024793\n",
      "[4]\ttrain-merror:0.016327\ttest-merror:0.024793\n",
      "predict proba, classification error=0.024793388429752067\n"
     ]
    }
   ],
   "source": [
    "import xgboost as xgb\n",
    "xg_train = xgb.DMatrix(X_train, label=y_train)\n",
    "xg_test = xgb.DMatrix(X_test, label=y_test)\n",
    "\n",
    "params = {}\n",
    "params['objective'] = 'multi:softmax' # predict class\n",
    "params['eta'] = 0.1 # rate of decreasing learning rate\n",
    "params['nthread'] = 4\n",
    "params['num_class'] = 6\n",
    "\n",
    "watchlist = [(xg_train,'train'), (xg_test, 'test')] # for monitoring\n",
    "num_round = 5 # rounds of gradient boosting performed\n",
    "bst = xgb.train(params, xg_train, num_round, watchlist)\n",
    "\n",
    "pred = bst.predict(xg_test)\n",
    "error = sum(int(pred[i]) != y_test[i] for i in range(len(y_test))) / float(len(y_test)) \n",
    "print(f'predict class, classification error={error}')\n",
    "\n",
    "params['objective'] = 'multi:softprob' # predict proba\n",
    "bst = xgb.train(params, xg_train, num_round, watchlist)\n",
    "\n",
    "yprob = bst.predict(xg_test).reshape(y_test.shape[0], 6)\n",
    "ylabel = np.argmax(yprob, axis=1)\n",
    "error = sum(int(ylabel[i]) != y_test[i] for i in range(len(y_test))) / float(len(y_test)) \n",
    "print(f'predict proba, classification error={error}')"
   ]
  },
  {
   "cell_type": "code",
   "execution_count": 1,
   "metadata": {},
   "outputs": [],
   "source": [
    "# stacking ensembles\n",
    "\n",
    "# data: biomolecular, classify 'Activity' - either 0 or 1\n",
    "import numpy as np\n",
    "import pandas as pd\n",
    "train = pd.read_csv('biomolecular_train.csv')\n",
    "y = np.array(train['Activity'])\n",
    "X = np.array(train.values[:,1:])\n",
    "\n",
    "submission = pd.read_csv('biomolecular_test.csv')\n",
    "X_submission = submission.values"
   ]
  },
  {
   "cell_type": "code",
   "execution_count": 6,
   "metadata": {},
   "outputs": [
    {
     "name": "stdout",
     "output_type": "stream",
     "text": [
      "0 RandomForestClassifier(bootstrap=True, class_weight=None, criterion='gini',\n",
      "            max_depth=None, max_features='auto', max_leaf_nodes=None,\n",
      "            min_impurity_decrease=0.0, min_impurity_split=None,\n",
      "            min_samples_leaf=1, min_samples_split=2,\n",
      "            min_weight_fraction_leaf=0.0, n_estimators=100, n_jobs=-1,\n",
      "            oob_score=False, random_state=None, verbose=0,\n",
      "            warm_start=False)\n",
      "Fold 0\n",
      "Fold 1\n",
      "Fold 2\n",
      "Fold 3\n",
      "Fold 4\n",
      "Fold 5\n",
      "Fold 6\n",
      "Fold 7\n",
      "Fold 8\n",
      "Fold 9\n",
      "1 RandomForestClassifier(bootstrap=True, class_weight=None, criterion='entropy',\n",
      "            max_depth=None, max_features='auto', max_leaf_nodes=None,\n",
      "            min_impurity_decrease=0.0, min_impurity_split=None,\n",
      "            min_samples_leaf=1, min_samples_split=2,\n",
      "            min_weight_fraction_leaf=0.0, n_estimators=100, n_jobs=-1,\n",
      "            oob_score=False, random_state=None, verbose=0,\n",
      "            warm_start=False)\n",
      "Fold 0\n",
      "Fold 1\n",
      "Fold 2\n",
      "Fold 3\n",
      "Fold 4\n",
      "Fold 5\n",
      "Fold 6\n",
      "Fold 7\n",
      "Fold 8\n",
      "Fold 9\n",
      "2 ExtraTreesClassifier(bootstrap=False, class_weight=None, criterion='gini',\n",
      "           max_depth=None, max_features='auto', max_leaf_nodes=None,\n",
      "           min_impurity_decrease=0.0, min_impurity_split=None,\n",
      "           min_samples_leaf=1, min_samples_split=2,\n",
      "           min_weight_fraction_leaf=0.0, n_estimators=100, n_jobs=-1,\n",
      "           oob_score=False, random_state=None, verbose=0, warm_start=False)\n",
      "Fold 0\n",
      "Fold 1\n",
      "Fold 2\n",
      "Fold 3\n",
      "Fold 4\n",
      "Fold 5\n",
      "Fold 6\n",
      "Fold 7\n",
      "Fold 8\n",
      "Fold 9\n",
      "3 ExtraTreesClassifier(bootstrap=False, class_weight=None, criterion='entropy',\n",
      "           max_depth=None, max_features='auto', max_leaf_nodes=None,\n",
      "           min_impurity_decrease=0.0, min_impurity_split=None,\n",
      "           min_samples_leaf=1, min_samples_split=2,\n",
      "           min_weight_fraction_leaf=0.0, n_estimators=100, n_jobs=-1,\n",
      "           oob_score=False, random_state=None, verbose=0, warm_start=False)\n",
      "Fold 0\n",
      "Fold 1\n",
      "Fold 2\n",
      "Fold 3\n",
      "Fold 4\n",
      "Fold 5\n",
      "Fold 6\n",
      "Fold 7\n",
      "Fold 8\n",
      "Fold 9\n",
      "4 GradientBoostingClassifier(criterion='friedman_mse', init=None,\n",
      "              learning_rate=0.05, loss='deviance', max_depth=6,\n",
      "              max_features=None, max_leaf_nodes=None,\n",
      "              min_impurity_decrease=0.0, min_impurity_split=None,\n",
      "              min_samples_leaf=1, min_samples_split=2,\n",
      "              min_weight_fraction_leaf=0.0, n_estimators=50,\n",
      "              n_iter_no_change=None, presort='auto', random_state=None,\n",
      "              subsample=0.5, tol=0.0001, validation_fraction=0.1,\n",
      "              verbose=0, warm_start=False)\n",
      "Fold 0\n",
      "Fold 1\n",
      "Fold 2\n",
      "Fold 3\n",
      "Fold 4\n",
      "Fold 5\n",
      "Fold 6\n",
      "Fold 7\n",
      "Fold 8\n",
      "Fold 9\n"
     ]
    },
    {
     "name": "stderr",
     "output_type": "stream",
     "text": [
      "/anaconda3/lib/python3.6/site-packages/sklearn/linear_model/logistic.py:433: FutureWarning: Default solver will be changed to 'lbfgs' in 0.22. Specify a solver to silence this warning.\n",
      "  FutureWarning)\n"
     ]
    }
   ],
   "source": [
    "from sklearn.model_selection import StratifiedKFold\n",
    "from sklearn.ensemble import RandomForestClassifier, ExtraTreesClassifier\n",
    "from sklearn.ensemble import GradientBoostingClassifier\n",
    "from sklearn.linear_model import LogisticRegression\n",
    "\n",
    "n_folds = 10\n",
    "skf = StratifiedKFold(n_folds)\n",
    "\n",
    "clfs = [\n",
    "    RandomForestClassifier(n_estimators=100, n_jobs=-1, criterion='gini'),\n",
    "    RandomForestClassifier(n_estimators=100, n_jobs=-1, criterion='entropy'),\n",
    "    ExtraTreesClassifier(n_estimators=100, n_jobs=-1, criterion='gini'),\n",
    "    ExtraTreesClassifier(n_estimators=100, n_jobs=-1, criterion='entropy'),\n",
    "    GradientBoostingClassifier(learning_rate=0.05, subsample=0.5, max_depth=6, n_estimators=50)\n",
    "]\n",
    "\n",
    "dataset_blend_train = np.zeros((X.shape[0], len(clfs)))\n",
    "dataset_blend_test = np.zeros((X_submission.shape[0], len(clfs)))\n",
    "\n",
    "for j, clf in enumerate(clfs):\n",
    "    print(j, clf)\n",
    "    # used to store predictions of all submission samples per fold (see more below)\n",
    "    dataset_blend_test_j = np.zeros((X_submission.shape[0], n_folds))\n",
    "    \n",
    "    for i, (train, test) in enumerate(skf.split(X, y)):\n",
    "        print(\"Fold\", i)\n",
    "        X_train, X_test, y_train, y_test = X[train], X[test], y[train], y[test] # y_test is not necessary here\n",
    "        clf.fit(X_train, y_train)\n",
    "        y_pred = clf.predict_proba(X_test)[:,1] # prob of positive class\n",
    "        \n",
    "        # store the prediction for every fold, so all samples will have a prediction in the end\n",
    "        dataset_blend_train[test, j] = y_pred\n",
    "        \n",
    "        # predict submission data every fold, then take average after loop\n",
    "        dataset_blend_test_j[:,i] = clf.predict_proba(X_submission)[:,1] # prob of positive class\n",
    "    dataset_blend_test[:,j] = dataset_blend_test_j.mean(1)\n",
    "\n",
    "# Blend results\n",
    "# instead of just taking the average of the results, LogReg is used to generate a 'average' by predicting from the classifiers' predictions\n",
    "clf = LogisticRegression()\n",
    "clf.fit(dataset_blend_train, y)\n",
    "y_submission = clf.predict_proba(dataset_blend_test)[:,1]\n",
    "\n",
    "# stretching results to 0-1\n",
    "y_submission = (y_submission - y_submission.min()) / (y_submission.max() - y_submission.min())"
   ]
  },
  {
   "cell_type": "code",
   "execution_count": 7,
   "metadata": {},
   "outputs": [
    {
     "data": {
      "text/plain": [
       "0.8091175686483605"
      ]
     },
     "execution_count": 7,
     "metadata": {},
     "output_type": "execute_result"
    }
   ],
   "source": [
    "clf.score(dataset_blend_train, y)"
   ]
  },
  {
   "cell_type": "code",
   "execution_count": null,
   "metadata": {},
   "outputs": [],
   "source": []
  }
 ],
 "metadata": {
  "kernelspec": {
   "display_name": "Python 3",
   "language": "python",
   "name": "python3"
  },
  "language_info": {
   "codemirror_mode": {
    "name": "ipython",
    "version": 3
   },
   "file_extension": ".py",
   "mimetype": "text/x-python",
   "name": "python",
   "nbconvert_exporter": "python",
   "pygments_lexer": "ipython3",
   "version": "3.6.8"
  }
 },
 "nbformat": 4,
 "nbformat_minor": 2
}
