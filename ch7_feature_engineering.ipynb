{
 "cells": [
  {
   "cell_type": "code",
   "execution_count": 12,
   "metadata": {},
   "outputs": [],
   "source": [
    "# check correlation between features (which can then be removed if high corr)\n",
    "import numpy as np\n",
    "\n",
    "x = np.random.randn(100, 5)\n",
    "noise = np.random.randn(100)\n",
    "# making the 5th col be correlated to the first and 3rd\n",
    "x[:,4] = 2 * x[:,0] + 3 * x[:,2] + .5 * noise"
   ]
  },
  {
   "cell_type": "code",
   "execution_count": 15,
   "metadata": {},
   "outputs": [
    {
     "name": "stdout",
     "output_type": "stream",
     "text": [
      "eigenvalues of features in the dataset x\n",
      "[0.0076554  1.92213011 0.87863441 1.09925374 1.09232634]\n"
     ]
    }
   ],
   "source": [
    "corr = np.corrcoef(x, rowvar=0)\n",
    "w, v = np.linalg.eig(corr)\n",
    "print('eigenvalues of features in the dataset x') # represent the amount of new info\n",
    "print(w) # low value(close to 0) suggests it is highly corr with another feature(s)"
   ]
  },
  {
   "cell_type": "code",
   "execution_count": 25,
   "metadata": {},
   "outputs": [
    {
     "name": "stdout",
     "output_type": "stream",
     "text": [
      "eigenvalues of eigenvector 0\n",
      "[-0.39379957  0.00348652 -0.6097173  -0.00433961  0.68784862]\n"
     ]
    }
   ],
   "source": [
    "print('eigenvalues of eigenvector 0')\n",
    "print(v[:,0]) # the 2nd and 4th feature, due to the small values(close to 0), is not related to feature 1\n",
    "# in contrast, the 3rd and 5th feature are multicollinear with feature 1"
   ]
  },
  {
   "cell_type": "code",
   "execution_count": 32,
   "metadata": {},
   "outputs": [],
   "source": [
    "# LASSO (L1 regularization)\n",
    "from sklearn.linear_model import Lasso # Linear Model trained with L1 prior as regularizer\n",
    "from sklearn.preprocessing import StandardScaler\n",
    "from sklearn.datasets import load_boston\n",
    "\n",
    "boston = load_boston()\n",
    "scaler = StandardScaler()\n",
    "X = scaler.fit_transform(boston[\"data\"])\n",
    "y = boston[\"target\"]\n",
    "names = boston[\"feature_names\"]"
   ]
  },
  {
   "cell_type": "code",
   "execution_count": 39,
   "metadata": {},
   "outputs": [
    {
     "name": "stdout",
     "output_type": "stream",
     "text": [
      "Lasso model:  -3.705 * LSTAT + 2.993 * RM + -1.756 * PTRATIO + -1.081 * DIS + -0.699 * NOX + 0.628 * B + 0.54 * CHAS + -0.242 * CRIM + 0.082 * ZN + -0.0 * INDUS + -0.0 * AGE + 0.0 * RAD + -0.0 * TAX\n"
     ]
    }
   ],
   "source": [
    "lasso = Lasso(alpha = 0.3)\n",
    "lasso.fit(X, y)\n",
    "\n",
    "def pretty_print_linear(coefs, names = None, sort = False):\n",
    "    if type(names) == 'NoneType':\n",
    "        names = [\"X%s\" % x for x in range(len(coefs))]\n",
    "    lst = zip(coefs, names)\n",
    "    if sort:\n",
    "        lst = sorted(lst,  key = lambda x:-np.abs(x[0]))\n",
    "    return \" + \".join(\"%s * %s\" % (round(coef, 3), name)\n",
    "                                   for coef, name in lst)\n",
    "\n",
    "print(\"Lasso model: \", pretty_print_linear(lasso.coef_, names, sort = True))\n",
    "# note the features with 0 corr\n",
    "# -0.0 * INDUS + -0.0 * AGE + 0.0 * RAD + -0.0 * TAX\n",
    "# this allows for feature selection"
   ]
  },
  {
   "cell_type": "code",
   "execution_count": 42,
   "metadata": {},
   "outputs": [],
   "source": [
    "# Recursive Feature Elimination (RFE)\n",
    "from sklearn.svm import SVC\n",
    "from sklearn.datasets import load_digits\n",
    "from sklearn.feature_selection import RFE\n",
    "import matplotlib.pyplot as plt\n",
    "\n",
    "digits = load_digits()\n",
    "X = digits.images.reshape((len(digits.images), -1))\n",
    "y = digits.target"
   ]
  },
  {
   "cell_type": "code",
   "execution_count": 45,
   "metadata": {},
   "outputs": [
    {
     "data": {
      "image/png": "[encoded data removed]",
      "text/plain": [
       "<Figure size 288x288 with 2 Axes>"
      ]
     },
     "metadata": {
      "needs_background": "light"
     },
     "output_type": "display_data"
    }
   ],
   "source": [
    "svc = SVC(kernel=\"linear\", C=1)\n",
    "rfe = RFE(estimator=svc, n_features_to_select=1, step=1) # RFE acts as a wrapper to the estimator, i.e. SVC\n",
    "rfe.fit(X, y)\n",
    "ranking = rfe.ranking_.reshape(digits.images[0].shape)\n",
    "\n",
    "\n",
    "plt.matshow(ranking)\n",
    "plt.colorbar()\n",
    "plt.title(\"Ranking of pixels with RFE\")\n",
    "plt.show()\n",
    "# the features(pixels) near the center are rated as more important(kept in the features list longer) than the ones as the sides"
   ]
  },
  {
   "cell_type": "code",
   "execution_count": null,
   "metadata": {},
   "outputs": [],
   "source": [
    "# Train delay classifier - did not finish because of lack of data from sources"
   ]
  },
  {
   "cell_type": "code",
   "execution_count": 50,
   "metadata": {},
   "outputs": [],
   "source": [
    "# Bing Traffic API - for HK data\n",
    "import urllib.request, urllib.error, urllib.parse\n",
    "import json\n",
    "\n",
    "url = \"http://dev.virtualearth.net/REST/v1/Traffic/Incidents/22.179824,114.105039,22.293266,114.256152?key=AqwxQqdD2_rItle62lhxNE31VEtsjKo0ZD8OkRXi3UUuOX_OYIHOuqn3cp0Vbgd_\"\n",
    "response = urllib.request.urlopen(url).read()\n",
    "data = json.loads(response.decode('utf8'))\n",
    "resources = data['resourceSets'][0]['resources']\n",
    "# unfortunately, it seems Bing does not have HK-related data"
   ]
  },
  {
   "cell_type": "code",
   "execution_count": null,
   "metadata": {},
   "outputs": [],
   "source": [
    "# Yahoo Weather API is currently down"
   ]
  },
  {
   "cell_type": "code",
   "execution_count": null,
   "metadata": {},
   "outputs": [],
   "source": []
  },
  {
   "cell_type": "code",
   "execution_count": null,
   "metadata": {},
   "outputs": [],
   "source": []
  },
  {
   "cell_type": "code",
   "execution_count": null,
   "metadata": {},
   "outputs": [],
   "source": []
  },
  {
   "cell_type": "code",
   "execution_count": null,
   "metadata": {},
   "outputs": [],
   "source": []
  },
  {
   "cell_type": "code",
   "execution_count": null,
   "metadata": {},
   "outputs": [],
   "source": []
  },
  {
   "cell_type": "code",
   "execution_count": null,
   "metadata": {},
   "outputs": [],
   "source": []
  },
  {
   "cell_type": "code",
   "execution_count": null,
   "metadata": {},
   "outputs": [],
   "source": []
  },
  {
   "cell_type": "code",
   "execution_count": null,
   "metadata": {},
   "outputs": [],
   "source": []
  },
  {
   "cell_type": "code",
   "execution_count": null,
   "metadata": {},
   "outputs": [],
   "source": []
  },
  {
   "cell_type": "code",
   "execution_count": null,
   "metadata": {},
   "outputs": [],
   "source": []
  },
  {
   "cell_type": "code",
   "execution_count": null,
   "metadata": {},
   "outputs": [],
   "source": []
  }
 ],
 "metadata": {
  "kernelspec": {
   "display_name": "Python 3",
   "language": "python",
   "name": "python3"
  },
  "language_info": {
   "codemirror_mode": {
    "name": "ipython",
    "version": 3
   },
   "file_extension": ".py",
   "mimetype": "text/x-python",
   "name": "python",
   "nbconvert_exporter": "python",
   "pygments_lexer": "ipython3",
   "version": "3.6.8"
  }
 },
 "nbformat": 4,
 "nbformat_minor": 2
}
